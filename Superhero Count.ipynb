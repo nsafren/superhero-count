{
 "cells": [
  {
   "cell_type": "code",
   "execution_count": 2,
   "metadata": {},
   "outputs": [
    {
     "name": "stdout",
     "output_type": "stream",
     "text": [
      "Collecting pandas\n",
      "\u001b[?25l  Downloading https://files.pythonhosted.org/packages/fc/43/fd867e3347559845c8f993059d410c50a1e18709f1c4d4b3b47323a06a37/pandas-0.24.2-cp37-cp37m-macosx_10_6_intel.macosx_10_9_intel.macosx_10_9_x86_64.macosx_10_10_intel.macosx_10_10_x86_64.whl (15.9MB)\n",
      "\u001b[K    100% |████████████████████████████████| 15.9MB 1.8MB/s eta 0:00:01 6% |██▏                             | 1.1MB 2.6MB/s eta 0:00:06    99% |███████████████████████████████▉| 15.8MB 8.5MB/s eta 0:00:01\n",
      "\u001b[?25hRequirement already satisfied: numpy>=1.12.0 in /Library/Frameworks/Python.framework/Versions/3.7/lib/python3.7/site-packages (from pandas) (1.16.0)\n",
      "Collecting pytz>=2011k (from pandas)\n",
      "\u001b[?25l  Downloading https://files.pythonhosted.org/packages/61/28/1d3920e4d1d50b19bc5d24398a7cd85cc7b9a75a490570d5a30c57622d34/pytz-2018.9-py2.py3-none-any.whl (510kB)\n",
      "\u001b[K    100% |████████████████████████████████| 512kB 4.3MB/s ta 0:00:011\n",
      "\u001b[?25hRequirement already satisfied: python-dateutil>=2.5.0 in /Library/Frameworks/Python.framework/Versions/3.7/lib/python3.7/site-packages (from pandas) (2.8.0)\n",
      "Requirement already satisfied: six>=1.5 in /Library/Frameworks/Python.framework/Versions/3.7/lib/python3.7/site-packages (from python-dateutil>=2.5.0->pandas) (1.12.0)\n",
      "Installing collected packages: pytz, pandas\n",
      "Successfully installed pandas-0.24.2 pytz-2018.9\n",
      "\u001b[33mYou are using pip version 18.1, however version 19.0.3 is available.\n",
      "You should consider upgrading via the 'pip install --upgrade pip' command.\u001b[0m\n"
     ]
    }
   ],
   "source": [
    "!pip install pandas"
   ]
  },
  {
   "cell_type": "code",
   "execution_count": 7,
   "metadata": {},
   "outputs": [
    {
     "name": "stdout",
     "output_type": "stream",
     "text": [
      "              actor name movie ID                        title\n",
      "actor_ID                                                      \n",
      "0000194   Julianne Moore  4649466  Kingsman: The Golden Circle\n",
      "0000604   John C. Reilly  2015381      Guardians of the Galaxy\n",
      "0000332      Don Cheadle  4154664               Captain Marvel\n",
      "0000332      Don Cheadle  4154796            Avengers: Endgame\n",
      "0000332      Don Cheadle  4154756       Avengers: Infinity War\n",
      "0000332      Don Cheadle  2395427      Avengers: Age of Ultron\n",
      "0000332      Don Cheadle  3498820   Captain America: Civil War\n",
      "0000332      Don Cheadle  1300854                   Iron Man 3\n",
      "0000332      Don Cheadle  1228705                   Iron Man 2\n",
      "0005127      Greg Lauren  0118688               Batman & Robin\n",
      "0005127      Greg Lauren  0112462               Batman Forever\n",
      "0001828   Melora Walters  1270797                        Venom\n",
      "0005048      Thomas Jane  0330793                 The Punisher\n",
      "0000547    Alfred Molina  0316654                 Spider-Man 2\n",
      "3425823     Greg Bronson  0118688               Batman & Robin\n"
     ]
    }
   ],
   "source": [
    "import requests\n",
    "#import IMDbPy\n",
    "from imdb import IMDb\n",
    "import pandas as pd\n",
    "ia = IMDb()\n",
    "\n",
    "PATH = \"supercast_edit.csv\"\n",
    "df = pd.read_csv(PATH,dtype ='str')\n",
    "df['actor_ID'] = df.loc[:,'actor ID']\n",
    "df = df.set_index('actor ID')\n",
    "cast_ids = []\n",
    "\n",
    "superhero_cast = list(df.iloc[:,-1])\n",
    "\n",
    "cast = ia.get_movie('0118749')['cast']\n",
    "for actor in cast:\n",
    "\t\tcast_ids.append(actor.personID)\n",
    "\n",
    "match = [i for i in cast_ids if i in superhero_cast]\n",
    "\n",
    "df_match =pd.DataFrame()\n",
    "\n",
    "for id in match:\n",
    "\tdf2 = df.loc[id]\n",
    "\tdf_match = df_match.append(df2)\n",
    "df_match = df_match.set_index('actor_ID')\n",
    "df_match =df_match.drop(['grouped'],axis=1)\n",
    "#df_match.to_csv('Boogie Nights.csv',index=False)\n",
    "print(df_match)\n",
    "#print(superhero_cast)\n"
   ]
  },
  {
   "cell_type": "code",
   "execution_count": null,
   "metadata": {},
   "outputs": [],
   "source": []
  }
 ],
 "metadata": {
  "kernelspec": {
   "display_name": "Python 3",
   "language": "python",
   "name": "python3"
  },
  "language_info": {
   "codemirror_mode": {
    "name": "ipython",
    "version": 3
   },
   "file_extension": ".py",
   "mimetype": "text/x-python",
   "name": "python",
   "nbconvert_exporter": "python",
   "pygments_lexer": "ipython3",
   "version": "3.7.2"
  }
 },
 "nbformat": 4,
 "nbformat_minor": 2
}
