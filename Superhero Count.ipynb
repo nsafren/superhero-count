{
 "cells": [
  {
   "cell_type": "code",
   "execution_count": null,
   "metadata": {},
   "outputs": [],
   "source": [
    "!pip install pandas"
   ]
  },
  {
   "cell_type": "code",
   "execution_count": null,
   "metadata": {},
   "outputs": [],
   "source": [
    "!pip install imdbpy"
   ]
  },
  {
   "cell_type": "code",
   "execution_count": null,
   "metadata": {},
   "outputs": [],
   "source": [
    "import requests\n",
    "from imdb import IMDb\n",
    "import pandas as pd\n",
    "ia = IMDb()\n",
    "\n",
    "#open spreadsheet with all actors from superhero movies\n",
    "PATH = \"supercast_edit.csv\"\n",
    "df = pd.read_csv(PATH,dtype ='str')\n",
    "\n",
    "#set index to actor ID\n",
    "df['actor_ID'] = df.loc[:,'actor ID']\n",
    "df = df.set_index('actor ID')\n",
    "\n",
    "cast_ids = []\n",
    "\n",
    "superhero_cast = list(df.iloc[:,-1])\n",
    "\n",
    "\n",
    "#THIS IS WHERE YOU INPUT IMDB MOVIE ID\n",
    "cast = ia.get_movie('0118749')['cast']\n",
    "for actor in cast:\n",
    "\t\tcast_ids.append(actor.personID)\n",
    "\n",
    "match = [i for i in cast_ids if i in superhero_cast]\n",
    "\n",
    "df_match =pd.DataFrame()\n",
    "\n",
    "for id in match:\n",
    "\tdf2 = df.loc[id]\n",
    "\tdf_match = df_match.append(df2)\n",
    "df_match = df_match.set_index('actor_ID')\n",
    "df_match =df_match.drop(['grouped','movie ID'],axis=1)\n",
    "print(df_match)"
   ]
  }
 ],
 "metadata": {
  "kernelspec": {
   "display_name": "Python 3",
   "language": "python",
   "name": "python3"
  },
  "language_info": {
   "codemirror_mode": {
    "name": "ipython",
    "version": 3
   },
   "file_extension": ".py",
   "mimetype": "text/x-python",
   "name": "python",
   "nbconvert_exporter": "python",
   "pygments_lexer": "ipython3",
   "version": "3.7.2"
  }
 },
 "nbformat": 4,
 "nbformat_minor": 2
}
